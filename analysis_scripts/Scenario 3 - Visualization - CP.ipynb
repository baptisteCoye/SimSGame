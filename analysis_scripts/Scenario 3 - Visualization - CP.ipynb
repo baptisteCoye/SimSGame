{
 "cells": [
  {
   "cell_type": "markdown",
   "metadata": {},
   "source": [
    "# Scenario 3 - Visualization - Critical Path Tables\n",
    "\n",
    "This document contains an initial analysis of the results obtained with our scheduling simulator.\n",
    "It presents a table containing the performance results obtained by an analysis of the task graph when ran over virtually unlimited resources with different RNG (random number generator) seeds.\n",
    "Scenario 3 means that the two most important tasks in the graph have double their usual number of subtasks, and their subtasks take half as long to execute as before. "
   ]
  },
  {
   "cell_type": "markdown",
   "metadata": {},
   "source": [
    "**General information**\n",
    "\n",
    "These simulation results were generated for 1000 resources, which is equivalent to unlimited resources to our task graph. The configuration was run with 50 different RNG seeds (1 up to 50).\n",
    "\n",
    "Each simulation is composed of 200 frames. Lag starts at zero and increases by 0.01 with each frame up to a lag equal to 100% in frame 101. After that, the lag starts to decrease in the same rhythm down to 0.01 in frame 200.\n",
    "\n",
    "**Metrics:**\n",
    "* SF: slowest frame (maximum frame execution time)\n",
    "* DF: number of delayed frames (with 16.667 ms as the due date)\n",
    "* CS: cumulative slowdown (with 16.667 ms as the due date)"
   ]
  },
  {
   "cell_type": "markdown",
   "metadata": {},
   "source": [
    "## Tables"
   ]
  },
  {
   "cell_type": "code",
   "execution_count": null,
   "metadata": {},
   "outputs": [],
   "source": [
    "import pandas as pd\n",
    "import numpy as np\n",
    "import matplotlib.pyplot as plt\n",
    "import seaborn as sns"
   ]
  },
  {
   "cell_type": "code",
   "execution_count": null,
   "metadata": {},
   "outputs": [],
   "source": [
    "# Constants\n",
    "seeds = [str(i) for i in range(1,51)]\n",
    "algorithms = [\"Infinity\"]\n",
    "finalnames = [\"Critical Path\"]\n",
    "r = \"1000\"\n",
    "\n",
    "directory = \"../Result_CP_3/\""
   ]
  },
  {
   "cell_type": "code",
   "execution_count": null,
   "metadata": {},
   "outputs": [],
   "source": [
    "# Function to generate the path and file name\n",
    "def file_name_and_path(directory, algorithm, resources, seed):\n",
    "    filename = directory + algorithm + \"/\" + resources + \"/200/TXT/\" + \\\n",
    "               algorithm + \"_divided_Random_\" + seed + \"_200_\" + resources + \".txt\"\n",
    "    return filename"
   ]
  },
  {
   "cell_type": "code",
   "execution_count": null,
   "metadata": {},
   "outputs": [],
   "source": [
    "# Function to plot tables\n",
    "def plot_table(algorithms, seeds, directory, resources):\n",
    "    l = []\n",
    "    for algo in algorithms:\n",
    "        k = []\n",
    "        for s in seeds:\n",
    "            filename = file_name_and_path(directory, algo, resources, s)\n",
    "            df = pd.read_csv(filename, sep=' ', header=None)\n",
    "            k.append(np.max(df[1]))\n",
    "            k.append(len([x for x in df[1] if x > 16667]))\n",
    "            k.append(sum([x - 16667 for x in df[1] if x > 16667]))\n",
    "        l.append(k)\n",
    "\n",
    "    df = pd.DataFrame(l,\n",
    "                    index=pd.Index([x for x in algorithms]),\n",
    "                    columns=pd.MultiIndex.from_product(\n",
    "                        [[x for x in seeds],['SF (ms)', 'DF (frames)', 'CS (ms)']], \n",
    "                        names=['Seed', 'Metric']))\n",
    "    return df.style.format(precision=2)"
   ]
  },
  {
   "cell_type": "markdown",
   "metadata": {},
   "source": [
    "### Unlimited Resources"
   ]
  },
  {
   "cell_type": "code",
   "execution_count": null,
   "metadata": {},
   "outputs": [],
   "source": [
    "plot_table(algorithms, seeds, directory, r)"
   ]
  },
  {
   "cell_type": "markdown",
   "metadata": {},
   "source": [
    "### Appendix - input file used to generate the results"
   ]
  },
  {
   "cell_type": "code",
   "execution_count": null,
   "metadata": {},
   "outputs": [],
   "source": [
    "!cat ../input_CP_scenario_3.txt"
   ]
  }
 ],
 "metadata": {
  "kernelspec": {
   "display_name": "Python 3",
   "language": "python",
   "name": "python3"
  },
  "language_info": {
   "codemirror_mode": {
    "name": "ipython",
    "version": 3
   },
   "file_extension": ".py",
   "mimetype": "text/x-python",
   "name": "python",
   "nbconvert_exporter": "python",
   "pygments_lexer": "ipython3",
   "version": "3.8.10"
  }
 },
 "nbformat": 4,
 "nbformat_minor": 4
}
