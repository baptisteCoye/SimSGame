{
 "cells": [
  {
   "cell_type": "markdown",
   "metadata": {},
   "source": [
    "# Scenario 2 and 3 - Visualization - lineplots with frame duration\n",
    "\n",
    "This document contains an analysis of the results obtained with our scheduling simulator.\n",
    "It presents some lineplots comparing the performance of the algorithms with and without sorting the subtasks inside each task. These plots also show the critical path for the different situations.\n",
    "\"Divided\" means that the two most important tasks in the graph have double their usual number of subtasks, and their subtasks take half as long to execute as before. \n",
    "The comparison considers the duration of each frame with different numbers of resources and RNG (random number generator) seeds."
   ]
  },
  {
   "cell_type": "markdown",
   "metadata": {},
   "source": [
    "**General information**\n",
    "\n",
    "These simulation results were generated from 4 to 20 resources. Each configuration was run with 50 different RNG seeds (1 up to 50).\n",
    "\n",
    "Each simulation is composed of 200 frames. Lag starts at zero and increases by 0.01 with each frame up to a lag equal to 100% in frame 101. After that, the lag starts to decrease in the same rhythm down to 0.01 in frame 200.\n",
    "\n",
    "\n",
    "**Algorithms abbreviation in presentation order:**\n",
    "\n",
    "FIFO serves as the baseline for comparisons.\n",
    "\n",
    "1. **FIFO:** First In First Out.\n",
    "2. **LPT:** Longest Processing Time First.\n",
    "3. **SPT:** Shortest Processing Time First.\n",
    "4. **SLPT:** LPT at a subtask level.\n",
    "5. **SSPT:** SPT at a subtask level.\n",
    "6. **HRRN:** Highest Response Ratio Next. \n",
    "7. **WT:** Longest Waiting Time First.\n",
    "8. **HLF:** Hu's Level First with unitary processing time of each task.\n",
    "9. **HLFET:** HLF with estimated times.\n",
    "10. **CG:** Coffman-Graham's Algorithm.\n",
    "11. **DCP:** Dynamic Critical Path Priority."
   ]
  },
  {
   "cell_type": "code",
   "execution_count": null,
   "metadata": {},
   "outputs": [],
   "source": [
    "import pandas as pd\n",
    "import numpy as np\n",
    "import matplotlib.pyplot as plt\n",
    "import seaborn as sns"
   ]
  },
  {
   "cell_type": "code",
   "execution_count": null,
   "metadata": {},
   "outputs": [],
   "source": [
    "# Constants\n",
    "seeds = [str(i) for i in range(1,51)]\n",
    "algorithms = [\"FIFO\", \"LPT\", \"SPT\", \"SLRT\", \"SSRT\", \"HRRN\", \"WT\", \"HLF\", \"Hu\", \"Coffman\", \"Priority\"]\n",
    "finalnames = [\"FIFO\", \"LPT\", \"SPT\", \"SLPT\", \"SSPT\", \"HRRN\", \"WT\", \"HLF\", \"HLFET\", \"CG\", \"DCP\"]\n",
    "resources = [i for i in range (4,21)]\n",
    "\n",
    "directory_divided = \"../Result_3/\"\n",
    "directory_sorted = \"../Result_2/\"\n",
    "directory_cp = \"../Result_CP_3/\""
   ]
  },
  {
   "cell_type": "code",
   "execution_count": null,
   "metadata": {},
   "outputs": [],
   "source": [
    "# Function to generate the path and file name\n",
    "def file_name_and_path(directory, algorithm, resources, seed, extra):\n",
    "    filename = directory + algorithm + \"/\" + resources + \"/200/TXT/\" + \\\n",
    "               algorithm + extra + seed + \"_200_\" + resources + \".txt\"\n",
    "    return filename"
   ]
  },
  {
   "cell_type": "code",
   "execution_count": null,
   "metadata": {},
   "outputs": [],
   "source": [
    "# Function to gather data in one dataframe for one number of resources and algorithm\n",
    "def gather_data(algorithm, seeds, directory, resource, extra):\n",
    "    data = []\n",
    "    for s in seeds:\n",
    "        filename = file_name_and_path(directory, algorithm, resource, s, extra)\n",
    "        df = pd.read_csv(filename, sep=' ', header=None)\n",
    "        data += [df]\n",
    "    result = pd.concat(data)\n",
    "    return result"
   ]
  },
  {
   "cell_type": "code",
   "execution_count": null,
   "metadata": {},
   "outputs": [],
   "source": [
    "# Function to gather and plot data for each number of resources\n",
    "def lineplot(algorithm, seeds, resources, name):\n",
    "    # One plot per number of resources\n",
    "    fig,ax = plt.subplots(len(resources),1, figsize=(15,60))\n",
    "    fig.tight_layout(pad=3.0)\n",
    "    for i in range(len(resources)):\n",
    "        ax[i].set(title=(f'Scheduling algorithm: {name}, Resources: {resources[i]}'))\n",
    "        ax[i].set_ylim(5000, 45000)\n",
    "        plt.sca(ax[i])\n",
    "        result = gather_data(algorithm, seeds, directory_sorted, str(resources[i]), \"_sorted_Random_\")\n",
    "        sns.lineplot(x=list(result[0]), y=list(result[1]), ci=\"sd\", label=(f'{name} w/ sorting'))\n",
    "        result = gather_data(algorithm, seeds, directory_divided, str(resources[i]), \"_divided_Random_\")\n",
    "        sns.lineplot(x=list(result[0]), y=list(result[1]), ci=\"sd\", label=(f'{name} w/ division'))\n",
    "        result = gather_data('Infinity', seeds, directory_cp, '1000', \"_divided_Random_\")\n",
    "        sns.lineplot(x=list(result[0]), y=list(result[1]), ci=\"sd\", label='Critical Path w/ division')\n",
    "        plt.plot([-10, 210], [16667, 16667], linewidth=1, color='gray')"
   ]
  },
  {
   "cell_type": "markdown",
   "metadata": {},
   "source": [
    "### 0. FIFO"
   ]
  },
  {
   "cell_type": "code",
   "execution_count": null,
   "metadata": {},
   "outputs": [],
   "source": [
    "i = 0\n",
    "lineplot(algorithms[i], seeds, resources, finalnames[i])"
   ]
  },
  {
   "cell_type": "markdown",
   "metadata": {},
   "source": [
    "### 1. LPT"
   ]
  },
  {
   "cell_type": "code",
   "execution_count": null,
   "metadata": {},
   "outputs": [],
   "source": [
    "i = 1\n",
    "lineplot(algorithms[i], seeds, resources, finalnames[i])"
   ]
  },
  {
   "cell_type": "markdown",
   "metadata": {},
   "source": [
    "### 2. SPT"
   ]
  },
  {
   "cell_type": "code",
   "execution_count": null,
   "metadata": {},
   "outputs": [],
   "source": [
    "i = 2\n",
    "lineplot(algorithms[i], seeds, resources, finalnames[i])"
   ]
  },
  {
   "cell_type": "markdown",
   "metadata": {},
   "source": [
    "### 3. SLPT"
   ]
  },
  {
   "cell_type": "code",
   "execution_count": null,
   "metadata": {},
   "outputs": [],
   "source": [
    "i = 3\n",
    "lineplot(algorithms[i], seeds, resources, finalnames[i])"
   ]
  },
  {
   "cell_type": "markdown",
   "metadata": {},
   "source": [
    "### 4. SSPT"
   ]
  },
  {
   "cell_type": "code",
   "execution_count": null,
   "metadata": {},
   "outputs": [],
   "source": [
    "i = 4\n",
    "lineplot(algorithms[i], seeds, resources, finalnames[i])"
   ]
  },
  {
   "cell_type": "markdown",
   "metadata": {},
   "source": [
    "### 5. HRRN"
   ]
  },
  {
   "cell_type": "code",
   "execution_count": null,
   "metadata": {},
   "outputs": [],
   "source": [
    "i = 5\n",
    "lineplot(algorithms[i], seeds, resources, finalnames[i])"
   ]
  },
  {
   "cell_type": "markdown",
   "metadata": {},
   "source": [
    "### 6. WT"
   ]
  },
  {
   "cell_type": "code",
   "execution_count": null,
   "metadata": {},
   "outputs": [],
   "source": [
    "i = 6\n",
    "lineplot(algorithms[i], seeds, resources, finalnames[i])"
   ]
  },
  {
   "cell_type": "markdown",
   "metadata": {},
   "source": [
    "### 7. HLF"
   ]
  },
  {
   "cell_type": "code",
   "execution_count": null,
   "metadata": {},
   "outputs": [],
   "source": [
    "i = 7\n",
    "lineplot(algorithms[i], seeds, resources, finalnames[i])"
   ]
  },
  {
   "cell_type": "markdown",
   "metadata": {},
   "source": [
    "### 8. HLFET"
   ]
  },
  {
   "cell_type": "code",
   "execution_count": null,
   "metadata": {},
   "outputs": [],
   "source": [
    "i = 8\n",
    "lineplot(algorithms[i], seeds, resources, finalnames[i])"
   ]
  },
  {
   "cell_type": "markdown",
   "metadata": {},
   "source": [
    "### 9. CG"
   ]
  },
  {
   "cell_type": "code",
   "execution_count": null,
   "metadata": {},
   "outputs": [],
   "source": [
    "i = 9\n",
    "lineplot(algorithms[i], seeds, resources, finalnames[i])"
   ]
  },
  {
   "cell_type": "markdown",
   "metadata": {},
   "source": [
    "### 10. DCP"
   ]
  },
  {
   "cell_type": "code",
   "execution_count": null,
   "metadata": {},
   "outputs": [],
   "source": [
    "i = 10\n",
    "lineplot(algorithms[i], seeds, resources, finalnames[i])"
   ]
  },
  {
   "cell_type": "markdown",
   "metadata": {},
   "source": [
    "### Appendix - input file used to generate the results"
   ]
  },
  {
   "cell_type": "code",
   "execution_count": null,
   "metadata": {},
   "outputs": [],
   "source": [
    "!cat ../input_scenario_2.txt "
   ]
  },
  {
   "cell_type": "code",
   "execution_count": null,
   "metadata": {},
   "outputs": [],
   "source": [
    "!cat ../input_scenario_3.txt "
   ]
  },
  {
   "cell_type": "code",
   "execution_count": null,
   "metadata": {},
   "outputs": [],
   "source": [
    "!cat ../input_CP_scenario_3.txt "
   ]
  }
 ],
 "metadata": {
  "kernelspec": {
   "display_name": "Python 3",
   "language": "python",
   "name": "python3"
  },
  "language_info": {
   "codemirror_mode": {
    "name": "ipython",
    "version": 3
   },
   "file_extension": ".py",
   "mimetype": "text/x-python",
   "name": "python",
   "nbconvert_exporter": "python",
   "pygments_lexer": "ipython3",
   "version": "3.8.10"
  }
 },
 "nbformat": 4,
 "nbformat_minor": 4
}
