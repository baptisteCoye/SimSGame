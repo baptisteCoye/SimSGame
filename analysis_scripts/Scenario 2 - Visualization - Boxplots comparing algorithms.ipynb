{
 "cells": [
  {
   "cell_type": "markdown",
   "metadata": {},
   "source": [
    "# Scenario 2 - Visualization - Boxplots comparing algorithms\n",
    "\n",
    "This document contains an initial analysis of the results obtained with our scheduling simulator.\n",
    "It presents some tables resuming the performance results obtained by the different schedulers with different numbers of resources and RNG (random number generator) seeds.\n",
    "The idea of Scenario 2 refers to the use of an LPT policy for choosing the subtasks of a task when scheduling."
   ]
  },
  {
   "cell_type": "markdown",
   "metadata": {},
   "source": [
    "**General information**\n",
    "\n",
    "These simulation results were generated from 4 to 20 resources. Each configuration was run with 50 different RNG seeds (1 up to 50).\n",
    "\n",
    "Each simulation is composed of 200 frames. Lag starts at zero and increases by 0.01 with each frame up to a lag equal to 100% in frame 101. After that, the lag starts to decrease in the same rhythm down to 0.01 in frame 200.\n",
    "\n",
    "\n",
    "**Algorithms abbreviation in presentation order:**\n",
    "\n",
    "FIFO serves as the baseline for comparisons.\n",
    "\n",
    "1. **FIFO:** First In First Out.\n",
    "2. **LPT:** Longest Processing Time First.\n",
    "3. **SPT:** Shortest Processing Time First.\n",
    "4. **SLPT:** LPT at a subtask level.\n",
    "5. **SSPT:** SPT at a subtask level.\n",
    "6. **HRRN:** Highest Response Ratio Next. \n",
    "7. **WT:** Longest Waiting Time First.\n",
    "8. **HLF:** Hu's Level First with unitary processing time of each task.\n",
    "9. **HLFET:** HLF with estimated times.\n",
    "10. **CG:** Coffman-Graham's Algorithm.\n",
    "11. **DCP:** Dynamic Critical Path Priority.\n",
    "\n",
    "**Metrics:**\n",
    "* SF: slowest frame (maximum frame execution time)\n",
    "* DF: number of delayed frames (with 16.667 ms as the due date)\n",
    "* CS: cumulative slowdown (with 16.667 ms as the due date)"
   ]
  },
  {
   "cell_type": "markdown",
   "metadata": {},
   "source": [
    "## Tables"
   ]
  },
  {
   "cell_type": "code",
   "execution_count": null,
   "metadata": {},
   "outputs": [],
   "source": [
    "import pandas as pd\n",
    "import numpy as np\n",
    "import matplotlib.pyplot as plt\n",
    "import seaborn as sns"
   ]
  },
  {
   "cell_type": "code",
   "execution_count": null,
   "metadata": {},
   "outputs": [],
   "source": [
    "# Constants\n",
    "seeds = [str(i) for i in range(1,51)]\n",
    "algorithms = [\"FIFO\", \"LPT\", \"SPT\", \"SLRT\", \"SSRT\", \"HRRN\", \"WT\", \"HLF\", \"Hu\", \"Coffman\", \"Priority\"]\n",
    "finalnames = [\"FIFO\", \"LPT\", \"SPT\", \"SLPT\", \"SSPT\", \"HRRN\", \"WT\", \"HLF\", \"HLFET\", \"CG\", \"DCP\"]\n",
    "resources = [i for i in range (4,21)]\n",
    "\n",
    "directory = \"../Result_2/\""
   ]
  },
  {
   "cell_type": "code",
   "execution_count": null,
   "metadata": {},
   "outputs": [],
   "source": [
    "# Function to generate the path and file name\n",
    "def file_name_and_path(directory, algorithm, resources, seed):\n",
    "    filename = directory + algorithm + \"/\" + resources + \"/200/TXT/\" + \\\n",
    "               algorithm + \"_sorted_Random_\" + seed + \"_200_\" + resources + \".txt\"\n",
    "    return filename"
   ]
  },
  {
   "cell_type": "code",
   "execution_count": null,
   "metadata": {},
   "outputs": [],
   "source": [
    "# Function to gather data in one dataframe per number of resources\n",
    "def gather_data(algorithms, seeds, directory, resources):\n",
    "    results = {}\n",
    "    for r in resources:\n",
    "        k = []\n",
    "        for algo in algorithms:\n",
    "            for s in seeds:\n",
    "                filename = file_name_and_path(directory, algo, str(r), s)\n",
    "                df = pd.read_csv(filename, sep=' ', header=None)\n",
    "                k1 = []\n",
    "                k1.append(algo)\n",
    "                k1.append(s)\n",
    "                k1.append(np.max(df[1]))\n",
    "                k1.append(len([x for x in df[1] if x > 16667]))\n",
    "                k1.append(sum([x - 16667 for x in df[1] if x > 16667]))\n",
    "                k.append(k1)\n",
    "\n",
    "        df = pd.DataFrame(k)\n",
    "        df.columns = ['Algorithm', 'Seed', 'SF (ms)', 'DF (frames)', 'CS (ms)']\n",
    "        results[r] = df\n",
    "    return results"
   ]
  },
  {
   "cell_type": "code",
   "execution_count": null,
   "metadata": {},
   "outputs": [],
   "source": [
    "data = gather_data(algorithms, seeds, directory, resources)"
   ]
  },
  {
   "cell_type": "code",
   "execution_count": null,
   "metadata": {},
   "outputs": [],
   "source": [
    "# Plots the boxplots for a given number of resources and metric\n",
    "def plot_boxplots(data, r, algorithms, metrics):\n",
    "    for metric in metrics:\n",
    "        fig,ax = plt.subplots(1,1, figsize=(15,12))\n",
    "        sns.boxplot(x=data[r]['Algorithm'], y=data[r][metric], data=data[r])\n",
    "        ax.set(title=metric)"
   ]
  },
  {
   "cell_type": "markdown",
   "metadata": {},
   "source": [
    "### 4 Resources"
   ]
  },
  {
   "cell_type": "code",
   "execution_count": null,
   "metadata": {},
   "outputs": [],
   "source": [
    "r = 4\n",
    "plot_boxplots(data, r, algorithms, ['SF (ms)', 'DF (frames)', 'CS (ms)'])"
   ]
  },
  {
   "cell_type": "markdown",
   "metadata": {},
   "source": [
    "### 5 Resources"
   ]
  },
  {
   "cell_type": "code",
   "execution_count": null,
   "metadata": {},
   "outputs": [],
   "source": [
    "r = 5\n",
    "plot_boxplots(data, r, algorithms, ['SF (ms)', 'DF (frames)', 'CS (ms)'])"
   ]
  },
  {
   "cell_type": "markdown",
   "metadata": {},
   "source": [
    "### 6 Resources"
   ]
  },
  {
   "cell_type": "code",
   "execution_count": null,
   "metadata": {},
   "outputs": [],
   "source": [
    "r = 6\n",
    "plot_boxplots(data, r, algorithms, ['SF (ms)', 'DF (frames)', 'CS (ms)'])"
   ]
  },
  {
   "cell_type": "markdown",
   "metadata": {},
   "source": [
    "### 7 Resources"
   ]
  },
  {
   "cell_type": "code",
   "execution_count": null,
   "metadata": {},
   "outputs": [],
   "source": [
    "r = 7\n",
    "plot_boxplots(data, r, algorithms, ['SF (ms)', 'DF (frames)', 'CS (ms)'])"
   ]
  },
  {
   "cell_type": "markdown",
   "metadata": {},
   "source": [
    "### 8 Resources"
   ]
  },
  {
   "cell_type": "code",
   "execution_count": null,
   "metadata": {},
   "outputs": [],
   "source": [
    "r = 8\n",
    "plot_boxplots(data, r, algorithms, ['SF (ms)', 'DF (frames)', 'CS (ms)'])"
   ]
  },
  {
   "cell_type": "markdown",
   "metadata": {},
   "source": [
    "### 9 Resources"
   ]
  },
  {
   "cell_type": "code",
   "execution_count": null,
   "metadata": {},
   "outputs": [],
   "source": [
    "r = 9\n",
    "plot_boxplots(data, r, algorithms, ['SF (ms)', 'DF (frames)', 'CS (ms)'])"
   ]
  },
  {
   "cell_type": "markdown",
   "metadata": {},
   "source": [
    "### 10 Resources"
   ]
  },
  {
   "cell_type": "code",
   "execution_count": null,
   "metadata": {},
   "outputs": [],
   "source": [
    "r = 10\n",
    "plot_boxplots(data, r, algorithms, ['SF (ms)', 'DF (frames)', 'CS (ms)'])"
   ]
  },
  {
   "cell_type": "markdown",
   "metadata": {},
   "source": [
    "### 11 Resources"
   ]
  },
  {
   "cell_type": "code",
   "execution_count": null,
   "metadata": {},
   "outputs": [],
   "source": [
    "r = 11\n",
    "plot_boxplots(data, r, algorithms, ['SF (ms)', 'DF (frames)', 'CS (ms)'])"
   ]
  },
  {
   "cell_type": "markdown",
   "metadata": {},
   "source": [
    "### 12 Resources"
   ]
  },
  {
   "cell_type": "code",
   "execution_count": null,
   "metadata": {},
   "outputs": [],
   "source": [
    "r = 12\n",
    "plot_boxplots(data, r, algorithms, ['SF (ms)', 'DF (frames)', 'CS (ms)'])"
   ]
  },
  {
   "cell_type": "markdown",
   "metadata": {},
   "source": [
    "### 13 Resources"
   ]
  },
  {
   "cell_type": "code",
   "execution_count": null,
   "metadata": {},
   "outputs": [],
   "source": [
    "r = 13\n",
    "plot_boxplots(data, r, algorithms, ['SF (ms)', 'DF (frames)', 'CS (ms)'])"
   ]
  },
  {
   "cell_type": "markdown",
   "metadata": {},
   "source": [
    "### 14 Resources"
   ]
  },
  {
   "cell_type": "code",
   "execution_count": null,
   "metadata": {},
   "outputs": [],
   "source": [
    "r = 14\n",
    "plot_boxplots(data, r, algorithms, ['SF (ms)', 'DF (frames)', 'CS (ms)'])"
   ]
  },
  {
   "cell_type": "markdown",
   "metadata": {},
   "source": [
    "### 15 Resources"
   ]
  },
  {
   "cell_type": "code",
   "execution_count": null,
   "metadata": {},
   "outputs": [],
   "source": [
    "r = 15\n",
    "plot_boxplots(data, r, algorithms, ['SF (ms)', 'DF (frames)', 'CS (ms)'])"
   ]
  },
  {
   "cell_type": "markdown",
   "metadata": {},
   "source": [
    "### 16 Resources"
   ]
  },
  {
   "cell_type": "code",
   "execution_count": null,
   "metadata": {},
   "outputs": [],
   "source": [
    "r = 16\n",
    "plot_boxplots(data, r, algorithms, ['SF (ms)', 'DF (frames)', 'CS (ms)'])"
   ]
  },
  {
   "cell_type": "markdown",
   "metadata": {},
   "source": [
    "### 17 Resources"
   ]
  },
  {
   "cell_type": "code",
   "execution_count": null,
   "metadata": {},
   "outputs": [],
   "source": [
    "r = 17\n",
    "plot_boxplots(data, r, algorithms, ['SF (ms)', 'DF (frames)', 'CS (ms)'])"
   ]
  },
  {
   "cell_type": "markdown",
   "metadata": {},
   "source": [
    "### 18 Resources"
   ]
  },
  {
   "cell_type": "code",
   "execution_count": null,
   "metadata": {},
   "outputs": [],
   "source": [
    "r = 18\n",
    "plot_boxplots(data, r, algorithms, ['SF (ms)', 'DF (frames)', 'CS (ms)'])"
   ]
  },
  {
   "cell_type": "markdown",
   "metadata": {},
   "source": [
    "### 19 Resources"
   ]
  },
  {
   "cell_type": "code",
   "execution_count": null,
   "metadata": {},
   "outputs": [],
   "source": [
    "r = 19\n",
    "plot_boxplots(data, r, algorithms, ['SF (ms)', 'DF (frames)', 'CS (ms)'])"
   ]
  },
  {
   "cell_type": "markdown",
   "metadata": {},
   "source": [
    "### 20 Resources"
   ]
  },
  {
   "cell_type": "code",
   "execution_count": null,
   "metadata": {},
   "outputs": [],
   "source": [
    "r = 20\n",
    "plot_boxplots(data, r, algorithms, ['SF (ms)', 'DF (frames)', 'CS (ms)'])"
   ]
  },
  {
   "cell_type": "markdown",
   "metadata": {},
   "source": [
    "### Appendix - input file used to generate the results"
   ]
  },
  {
   "cell_type": "code",
   "execution_count": null,
   "metadata": {},
   "outputs": [],
   "source": [
    "!cat ../input_scenario_2.txt "
   ]
  }
 ],
 "metadata": {
  "kernelspec": {
   "display_name": "Python 3",
   "language": "python",
   "name": "python3"
  },
  "language_info": {
   "codemirror_mode": {
    "name": "ipython",
    "version": 3
   },
   "file_extension": ".py",
   "mimetype": "text/x-python",
   "name": "python",
   "nbconvert_exporter": "python",
   "pygments_lexer": "ipython3",
   "version": "3.8.10"
  }
 },
 "nbformat": 4,
 "nbformat_minor": 4
}
